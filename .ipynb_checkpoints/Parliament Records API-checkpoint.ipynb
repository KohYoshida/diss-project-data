{
 "cells": [
  {
   "cell_type": "markdown",
   "id": "8dc4aaa6",
   "metadata": {},
   "source": [
    "### API for collecting statements from the Japan's Diet's archive\n",
    "##### https://kokkai.ndl.go.jp/api.html"
   ]
  },
  {
   "cell_type": "code",
   "execution_count": 1,
   "id": "b49d0d0e",
   "metadata": {},
   "outputs": [],
   "source": [
    "import requests\n",
    "import json\n",
    "import pandas as pd\n",
    "import openai\n",
    "from tenacity import retry, stop_after_attempt, wait_random_exponential\n",
    "import matplotlib.pyplot as plt"
   ]
  },
  {
   "cell_type": "code",
   "execution_count": 10,
   "id": "51bc95a9",
   "metadata": {},
   "outputs": [
    {
     "name": "stdout",
     "output_type": "stream",
     "text": [
      "200\n"
     ]
    }
   ],
   "source": [
    "# maximumRecords = \"100\"  # max number of response you can get at once\n",
    "\n",
    "# any = \"MMT\"  # any words to be searched. space means \"AND\"\n",
    "\n",
    "# start = \"2010-01-01\"  # start date\n",
    "\n",
    "# until = \"2010-12-12\"  #end date\n",
    "\n",
    "# recordPacking = \"json\"  # format of the response\n",
    "\n",
    "# url = f\"https://kokkai.ndl.go.jp/api/speech?any={any}&maximumRecords={maximumRecords}&from={start}&until={until}&recordPacking={recordPacking}\"\n",
    "# req = requests.get(url)\n",
    "# print(req.status_code)"
   ]
  },
  {
   "cell_type": "code",
   "execution_count": 11,
   "id": "e7452e8a",
   "metadata": {},
   "outputs": [],
   "source": [
    "# data = req.json()\n",
    "# data\n",
    "# statements = data[\"speechRecord\"]\n",
    "# data[\"numberOfRecords\"]\n",
    "# statements[0]\n",
    "# len(statements)\n",
    "# statements[0].keys()"
   ]
  },
  {
   "cell_type": "markdown",
   "id": "744577e0",
   "metadata": {},
   "source": [
    "### Function for fetching records by keyword and create a dataframe of the results"
   ]
  },
  {
   "cell_type": "code",
   "execution_count": 2,
   "id": "5d410279",
   "metadata": {},
   "outputs": [],
   "source": [
    "def fetch_records(keyword): # search keywords via api and create a dataframe of the results\n",
    "    \n",
    "    # configuration for API\n",
    "    max_records= 100\n",
    "    record_packing=\"json\"\n",
    "    current_year = 2023\n",
    "\n",
    "    # setup the search period, range(1,21) means latest 20 years to 2022\n",
    "    results = []\n",
    "    hits =[]\n",
    "    for i in range(1, 25):\n",
    "        year = current_year - i\n",
    "        start = f\"{year}-01-01\"\n",
    "        until = f\"{year}-12-31\"\n",
    "        \n",
    "        # API call\n",
    "        url = f\"https://kokkai.ndl.go.jp/api/speech?any={keyword}&maximumRecords={max_records}&from={start}&until={until}&recordPacking={record_packing}\"\n",
    "        req = requests.get(url)\n",
    "        \n",
    "        if req.status_code == 200:\n",
    "            data = req.json()\n",
    "            if data[\"numberOfRecords\"] == 0: # no hit will be shown as 0 instaed of error\n",
    "                hits.append(0)\n",
    "                return \"No hits\"\n",
    "                \n",
    "            else:                    \n",
    "                hits.append(data[\"numberOfRecords\"]) # show num of hit per year\n",
    "                results.extend(data[\"speechRecord\"]) # make a list of dict that contains all results\n",
    "                \n",
    "                # each list below to be a column of dataframe\n",
    "                id = []\n",
    "                for result in results:\n",
    "                    ID = result[\"speechID\"]\n",
    "                    id.append(ID)\n",
    "\n",
    "                record = []\n",
    "                for result in results:\n",
    "                    record_type = result[\"imageKind\"]\n",
    "                    record.append(record_type)\n",
    "\n",
    "                session = []\n",
    "                for result in results:\n",
    "                    session_of_diet = result[\"session\"]\n",
    "                    session.append(session_of_diet)\n",
    "\n",
    "                house = []\n",
    "                for result in results:\n",
    "                    house_name = result[\"nameOfHouse\"]\n",
    "                    house.append(house_name)\n",
    "\n",
    "                meeting = []\n",
    "                for result in results:\n",
    "                    meeting_name = result[\"nameOfMeeting\"]\n",
    "                    meeting.append(meeting_name)\n",
    "\n",
    "                date = []\n",
    "                for result in results:\n",
    "                    meeting_date = result[\"date\"]\n",
    "                    date.append(meeting_date)\n",
    "\n",
    "                speech_order = []\n",
    "                for result in results:\n",
    "                    speechorder = result[\"speechOrder\"]\n",
    "                    speech_order.append(speechorder)\n",
    "\n",
    "                speaker = []\n",
    "                for result in results:\n",
    "                    respondant = result[\"speaker\"]\n",
    "                    speaker.append(respondant)\n",
    "\n",
    "                group = []\n",
    "                for result in results:\n",
    "                    speaker_group = result[\"speakerGroup\"]\n",
    "                    group.append(speaker_group)\n",
    "\n",
    "                position = []\n",
    "                for result in results:\n",
    "                    speaker_position = result[\"speakerPosition\"]\n",
    "                    position.append(speaker_position)\n",
    "\n",
    "                role = []\n",
    "                for result in results:\n",
    "                    speaker_role = result[\"speakerRole\"]\n",
    "                    role.append(speaker_role)\n",
    "\n",
    "                speech = []\n",
    "                for result in results:\n",
    "                    sayings = result[\"speech\"]\n",
    "                    speech.append(sayings)\n",
    "\n",
    "                url = []\n",
    "                for result in results:\n",
    "                    URL = result[\"speechURL\"]\n",
    "                    url.append(URL)\n",
    "\n",
    "                df = pd.DataFrame({\n",
    "                    \"id\": id,\n",
    "                    \"record\": record,\n",
    "                    \"session\": session,\n",
    "                    \"house\": house,\n",
    "                    \"meeting\": meeting,\n",
    "                    \"date\": date,\n",
    "                    \"order\": speech_order,\n",
    "                    \"speaker\": speaker,\n",
    "                    \"group\": group,\n",
    "                    \"position\": position,\n",
    "                    \"role\": role,\n",
    "                    \"speech\": speech,\n",
    "                    \"url\": url})\n",
    "                \n",
    "        else:\n",
    "            return f\"Failed to fetch data for {start} to {until}\"\n",
    "        \n",
    "    return df"
   ]
  },
  {
   "cell_type": "code",
   "execution_count": 9,
   "id": "71d57e8e",
   "metadata": {},
   "outputs": [],
   "source": [
    "# search MMT by four different keywords \n",
    "df_MMT = fetch_records(\"MMT\")\n",
    "df_kanji = fetch_records(\"現代貨幣理論\") # MMT in Japanese kanji character\n",
    "df_kinyuu = fetch_records(\"現代金融理論\") # Another version of MMT in Japanese kanji character\n",
    "df_katakana = fetch_records(\"モダン マネタリー セオリー\") # MMT in Japanese katakana character"
   ]
  },
  {
   "cell_type": "code",
   "execution_count": 10,
   "id": "ecd7badf",
   "metadata": {},
   "outputs": [],
   "source": [
    "results_total = pd.concat([df_MMT, df_kanji, df_kinyuu, df_katakana]) # concatenate four dataframes\n",
    "\n",
    "results_total = results_total.drop_duplicates(subset=['speech']) # delete duplicates\n",
    "\n",
    "results_total['date'] = pd.to_datetime(results_total['date'])\n",
    "results_total.sort_values(['date', 'order'], inplace=True) # arrange the order of row by date\n",
    "\n",
    "results_total = results_total.reset_index(drop=True) # reset index "
   ]
  },
  {
   "cell_type": "code",
   "execution_count": 11,
   "id": "e249b503",
   "metadata": {},
   "outputs": [],
   "source": [
    "# I found that the rows that have index number 0, 173 are unrelated to Modern Monetary Theory\n",
    "results_total.drop([0, 173], inplace=True)\n",
    "results_total = results_total.reset_index(drop=True) # reset index\n",
    "\n",
    "# save dataframe as csv file\n",
    "# results_total.to_csv('MMT_parliament_records.csv', index=True) "
   ]
  },
  {
   "cell_type": "code",
   "execution_count": 12,
   "id": "24a060d3",
   "metadata": {},
   "outputs": [
    {
     "name": "stdout",
     "output_type": "stream",
     "text": [
      "RangeIndex(start=0, stop=174, step=1)\n"
     ]
    },
    {
     "data": {
      "text/plain": [
       "date\n",
       "1     11\n",
       "2     29\n",
       "3     24\n",
       "4     37\n",
       "5     40\n",
       "6     13\n",
       "10     3\n",
       "11    13\n",
       "12     4\n",
       "Name: date, dtype: int64"
      ]
     },
     "execution_count": 12,
     "metadata": {},
     "output_type": "execute_result"
    }
   ],
   "source": [
    "print(results_total.index)\n",
    "# see how many statements were made in each year\n",
    "results_total['date'].dt.year.groupby(results_total['date'].dt.month).size()"
   ]
  },
  {
   "cell_type": "code",
   "execution_count": null,
   "id": "1cbbcb55",
   "metadata": {},
   "outputs": [],
   "source": [
    "print(results_total.index)"
   ]
  },
  {
   "cell_type": "code",
   "execution_count": 19,
   "id": "40b03168",
   "metadata": {},
   "outputs": [
    {
     "data": {
      "image/png": "[encoded data removed]",
      "text/plain": [
       "<Figure size 1200x600 with 1 Axes>"
      ]
     },
     "metadata": {},
     "output_type": "display_data"
    }
   ],
   "source": [
    "# visualize the monthly data\n",
    "results_total['year_month'] = results_total['date'].dt.to_period('M')\n",
    "\n",
    "results_total_grouped = results_total.groupby('year_month').size()\n",
    "\n",
    "results_total_grouped.plot(kind='bar', figsize=(12, 6))\n",
    "plt.title('Monthly comparison of statements referring to \"Modern Monetary Theory\" in Japan\\'s Diet' )\n",
    "plt.xlabel('Month')\n",
    "plt.ylabel('Number of statements')\n",
    "plt.show()"
   ]
  },
  {
   "cell_type": "code",
   "execution_count": null,
   "id": "aeaee9df",
   "metadata": {},
   "outputs": [],
   "source": []
  },
  {
   "cell_type": "code",
   "execution_count": null,
   "id": "77ec5191",
   "metadata": {},
   "outputs": [],
   "source": []
  },
  {
   "cell_type": "code",
   "execution_count": 5,
   "id": "61bd36a1",
   "metadata": {},
   "outputs": [],
   "source": []
  },
  {
   "cell_type": "code",
   "execution_count": null,
   "id": "f45a516b",
   "metadata": {},
   "outputs": [],
   "source": []
  },
  {
   "cell_type": "code",
   "execution_count": 7,
   "id": "f2ab5720",
   "metadata": {},
   "outputs": [],
   "source": []
  },
  {
   "cell_type": "code",
   "execution_count": null,
   "id": "bfb62c1c",
   "metadata": {},
   "outputs": [],
   "source": []
  },
  {
   "cell_type": "code",
   "execution_count": null,
   "id": "d94900cd",
   "metadata": {},
   "outputs": [],
   "source": []
  }
 ],
 "metadata": {
  "kernelspec": {
   "display_name": "Python 3 (ipykernel)",
   "language": "python",
   "name": "python3"
  },
  "language_info": {
   "codemirror_mode": {
    "name": "ipython",
    "version": 3
   },
   "file_extension": ".py",
   "mimetype": "text/x-python",
   "name": "python",
   "nbconvert_exporter": "python",
   "pygments_lexer": "ipython3",
   "version": "3.10.7"
  }
 },
 "nbformat": 4,
 "nbformat_minor": 5
}
